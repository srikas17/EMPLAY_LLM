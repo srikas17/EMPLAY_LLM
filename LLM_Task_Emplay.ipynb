{
  "nbformat": 4,
  "nbformat_minor": 0,
  "metadata": {
    "colab": {
      "provenance": []
    },
    "kernelspec": {
      "name": "python3",
      "display_name": "Python 3"
    },
    "language_info": {
      "name": "python"
    }
  },
  "cells": [
    {
      "cell_type": "code",
      "execution_count": null,
      "metadata": {
        "id": "0JuONQGXvJCW"
      },
      "outputs": [],
      "source": [
        "!pip install python-docx translate streamlit\n",
        "!pip install pyngrok\n",
        "!pip install translator\n",
        "!pip install googletrans"
      ]
    },
    {
      "cell_type": "code",
      "source": [
        "import os\n",
        "import docx\n",
        "from docx import Document\n",
        "from translate import Translator\n",
        "import streamlit as st"
      ],
      "metadata": {
        "id": "ZYPzeF-3vafj"
      },
      "execution_count": null,
      "outputs": []
    },
    {
      "cell_type": "code",
      "source": [
        "from docx import Document\n",
        "\n",
        "def load_demo_script(file_path):\n",
        "    doc = Document(file_path)\n",
        "    content = []\n",
        "    for para in doc.paragraphs:\n",
        "        content.append(para.text)\n",
        "    return content\n",
        "\n",
        "original_demo_script = load_demo_script(\"C:/Users/ADMIN/Downloads/demo-script-employee-central-overview.docx\")"
      ],
      "metadata": {
        "id": "kCZfFazmvbXs"
      },
      "execution_count": null,
      "outputs": []
    },
    {
      "cell_type": "code",
      "source": [
        "import requests\n",
        "import re\n",
        "from googletrans import Translator\n",
        "\n",
        "def get_google_translate_token():\n",
        "    # Retrieve the Google Translate token using an HTTP request\n",
        "    url = \"https://translate.google.com\"\n",
        "    response = requests.get(url)\n",
        "    tkk_expr = re.search(\"(tkk:.*?),\", response.text)\n",
        "    if tkk_expr:\n",
        "        return tkk_expr.group(1)\n",
        "    return None\n",
        "\n",
        "def translate_content(content, target_language):\n",
        "    # Get the Google Translate token\n",
        "    token = get_google_translate_token()\n",
        "    if not token:\n",
        "        raise Exception(\"Failed to retrieve Google Translate token.\")\n",
        "\n",
        "    translator = Translator()\n",
        "    translator.session.params[\"tk\"] = token\n",
        "\n",
        "    translated_content = [translator.translate(para, dest=target_language).text for para in content]\n",
        "    return translated_content"
      ],
      "metadata": {
        "id": "OM7rw0BgvefS"
      },
      "execution_count": null,
      "outputs": []
    },
    {
      "cell_type": "code",
      "source": [
        "from googletrans import Translator\n",
        "\n",
        "def translate_content(content, target_language):\n",
        "    translator = Translator()\n",
        "    translated_content = [translator.translate(para, dest=target_language).text for para in content]\n",
        "    return translated_content\n",
        "\n",
        "def replace_names(content, country):\n",
        "    # Replace names based on the selected country\n",
        "    # For example, replace \"Alex Smith\" with \"Rahul Sharma\" for India\n",
        "    if country == \"India\":\n",
        "        content = [para.replace(\"Alex Smith\", \"Rahul Sharma\") for para in content]\n",
        "    # Add more name replacements for other countries as needed\n",
        "    return content\n",
        "\n",
        "# Translate and replace names\n",
        "localized_content = translate_content(original_demo_script, target_language=\"es\")\n",
        "localized_content = replace_names(localized_content, country=\"India\")\n"
      ],
      "metadata": {
        "id": "eWu09pIEvk9i"
      },
      "execution_count": null,
      "outputs": []
    },
    {
      "cell_type": "code",
      "source": [
        "import streamlit as st\n",
        "\n",
        "def main():\n",
        "    st.title(\"Demo Script Localization\")\n",
        "\n",
        "    # File upload\n",
        "    uploaded_file = st.file_uploader(\"Upload DOCX File\", type=[\"docx\"])\n",
        "\n",
        "    if uploaded_file:\n",
        "        target_language = st.selectbox(\"Select Target Language\", [\"Spanish\", \"Other Languages\"])\n",
        "        country = st.selectbox(\"Select Country\", [\"India\", \"Other Countries\"])\n",
        "\n",
        "        if st.button(\"Localize\"):\n",
        "            original_content = load_demo_script(uploaded_file)\n",
        "            localized_content = translate_content(original_content, target_language)\n",
        "            localized_content = replace_names(localized_content, country)\n",
        "\n",
        "            # Save localized content to a new DOCX file\n",
        "            localized_doc = Document()\n",
        "            for para in localized_content:\n",
        "                localized_doc.add_paragraph(para)\n",
        "            localized_doc.save(\"Localized_Demo_Script.docx\")\n",
        "\n",
        "            st.success(\"Localization complete. Download the localized file.\")\n",
        "            st.download_button(\"Download Localized Script\", \"Localized_Demo_Script.docx\")\n",
        "\n",
        "if __name__ == \"__main__\":\n",
        "    main()"
      ],
      "metadata": {
        "id": "w7KVg6PzvorV"
      },
      "execution_count": null,
      "outputs": []
    },
    {
      "cell_type": "code",
      "source": [
        "import re\n",
        "import requests\n",
        "from googletrans import Translator\n",
        "from docx import Document\n",
        "import streamlit as st\n",
        "\n",
        "def load_demo_script(file_path):\n",
        "    doc = Document(file_path)\n",
        "    content = [para.text for para in doc.paragraphs]\n",
        "    return content\n",
        "\n",
        "def get_google_translate_token():\n",
        "    # Retrieve the Google Translate token using an HTTP request\n",
        "    url = \"https://translate.google.com\"\n",
        "    response = requests.get(url)\n",
        "    tkk_expr = re.search(r\"tkk:'(.*?)'\", response.text)\n",
        "    if tkk_expr:\n",
        "        return tkk_expr.group(1)\n",
        "    return None\n",
        "\n",
        "def translate_content(content, target_language):\n",
        "    # Get the Google Translate token\n",
        "    token = get_google_translate_token()\n",
        "    if not token:\n",
        "        raise Exception(\"Failed to retrieve Google Translate token.\")\n",
        "\n",
        "    translator = Translator()\n",
        "    translator.session.params[\"tk\"] = token\n",
        "\n",
        "    translated_content = [translator.translate(para, dest=target_language).text for para in content]\n",
        "    return translated_content\n",
        "\n",
        "def replace_names(content, country):\n",
        "    # Replace names based on the selected country\n",
        "    # For example, replace \"Alex Smith\" with \"Rahul Sharma\" for India\n",
        "    if country == \"India\":\n",
        "        content = [para.replace(\"Alex Smith\", \"Rahul Sharma\") for para in content]\n",
        "    # Add more name replacements for other countries as needed\n",
        "    return content\n",
        "\n",
        "def main():\n",
        "    st.title(\"Demo Script Localization\")\n",
        "\n",
        "    # File upload\n",
        "    uploaded_file = st.file_uploader(\"Upload DOCX File\", type=[\"docx\"])\n",
        "\n",
        "    if uploaded_file:\n",
        "        target_language = st.selectbox(\"Select Target Language\", [\"es\", \"Other Languages\"])\n",
        "        country = st.selectbox(\"Select Country\", [\"India\", \"Other Countries\"])\n",
        "\n",
        "        if st.button(\"Localize\"):\n",
        "            original_content = load_demo_script(uploaded_file)\n",
        "            localized_content = translate_content(original_content, target_language)\n",
        "            localized_content = replace_names(localized_content, country)\n",
        "\n",
        "            # Save localized content to a new DOCX file\n",
        "            localized_doc = Document()\n",
        "            for para in localized_content:\n",
        "                localized_doc.add_paragraph(para)\n",
        "            localized_doc.save(\"Localized_Demo_Script.docx\")\n",
        "\n",
        "            st.success(\"Localization complete. Download the localized file.\")\n",
        "            st.download_button(\"Download Localized Script\", \"Localized_Demo_Script.docx\")\n",
        "\n",
        "if __name__ == \"__main__\":\n",
        "    main()\n"
      ],
      "metadata": {
        "id": "-Wz8xQ_evulB"
      },
      "execution_count": null,
      "outputs": []
    }
  ]
}